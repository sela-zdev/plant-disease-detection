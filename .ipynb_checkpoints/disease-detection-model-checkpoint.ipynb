{
 "cells": [
  {
   "cell_type": "code",
   "execution_count": null,
   "id": "a7ab02d3-3eb9-472c-aa3f-c4290062d6f5",
   "metadata": {},
   "outputs": [],
   "source": [
    "import numpy as np\n",
    "import tensorflow as tf\n",
    "from tensorflow.keras import layers, models\n",
    "from tensorflow.keras.preprocessing.image import ImageDataGenerator\n",
    "from sklearn.model_selection import train_test_split\n",
    "from sklearn.metrics import classification_report, confusion_matrix"
   ]
  },
  {
   "cell_type": "code",
   "execution_count": 170,
   "id": "1c406974-a98b-4ce6-a1de-1afe2e03d255",
   "metadata": {},
   "outputs": [],
   "source": [
    "from zipfile import ZipFile"
   ]
  },
  {
   "cell_type": "code",
   "execution_count": 172,
   "id": "7478f79a-edfd-4850-8213-15d8910e82a9",
   "metadata": {},
   "outputs": [
    {
     "name": "stdout",
     "output_type": "stream",
     "text": [
      "Dataset URL: https://www.kaggle.com/datasets/abdallahalidev/plantvillage-dataset\n",
      "License(s): CC-BY-NC-SA-4.0\n",
      "plantvillage-dataset.zip: Skipping, found more recently modified local copy (use --force to force download)\n"
     ]
    }
   ],
   "source": [
    "!kaggle datasets download -d abdallahalidev/plantvillage-dataset"
   ]
  },
  {
   "cell_type": "code",
   "execution_count": 173,
   "id": "b141d6aa-d574-4ca4-9c5a-f70f6f65e2ce",
   "metadata": {},
   "outputs": [],
   "source": [
    "with ZipFile(\"plantvillage-dataset.zip\", 'r') as zip_ref:\n",
    "    zip_ref.extractall()"
   ]
  },
  {
   "cell_type": "code",
   "execution_count": 174,
   "id": "dc0df72d-f529-4369-b5b1-4c3651b80814",
   "metadata": {},
   "outputs": [
    {
     "name": "stdout",
     "output_type": "stream",
     "text": [
      "00139ae8-d881-4edb-925f-46584b0bd68c___YLCV_NREC 2944.JPG\n",
      "Septoria_Leaf_Spot_of_Tomato186.jpg\n",
      "Uploading-of-apple-leaf-image_Q320.jpg\n",
      "blueberry-leaves-isolated-white-background-leaves-clipping-path_299651-427.avif\n",
      "disease-detection-model.ipynb\n",
      "images.jpeg\n",
      "istockphoto-496662675-612x612.jpg\n",
      "plant_disease_cnn.h5\n",
      "plant_disease_cnn.keras\n",
      "\u001b[34mplantvillage dataset\u001b[m\u001b[m\n",
      "plantvillage-dataset.zip\n"
     ]
    }
   ],
   "source": [
    "!ls"
   ]
  },
  {
   "cell_type": "code",
   "execution_count": null,
   "id": "527fea2b-94b5-4376-96cc-6bc0bf39dfd1",
   "metadata": {},
   "outputs": [],
   "source": [
    "import os"
   ]
  },
  {
   "cell_type": "code",
   "execution_count": null,
   "id": "af00f0de-22ba-4511-93d6-878830913868",
   "metadata": {},
   "outputs": [],
   "source": [
    "print(os.listdir(\"plantvillage dataset\"))\n",
    "\n",
    "print(len(os.listdir(\"plantvillage dataset/segmented\")))\n",
    "print(os.listdir(\"plantvillage dataset/segmented\")[:5])\n",
    "\n",
    "print(len(os.listdir(\"plantvillage dataset/color\")))\n",
    "print(os.listdir(\"plantvillage dataset/color\")[:5])\n",
    "\n",
    "print(len(os.listdir(\"plantvillage dataset/grayscale\")))\n",
    "print(os.listdir(\"plantvillage dataset/grayscale\")[:5])"
   ]
  },
  {
   "cell_type": "code",
   "execution_count": null,
   "id": "a4485e7b-596f-4cb9-803b-3866c18263a9",
   "metadata": {},
   "outputs": [],
   "source": [
    "base_dir = \"plantvillage dataset/color\""
   ]
  },
  {
   "cell_type": "code",
   "execution_count": null,
   "id": "3d061e75-754e-4f78-a9e3-3871a57ac3c7",
   "metadata": {},
   "outputs": [],
   "source": [
    "train_datagen = ImageDataGenerator(\n",
    "    rescale=1./255, \n",
    "    rotation_range=40, \n",
    "    width_shift_range=0.2, \n",
    "    height_shift_range=0.2, \n",
    "    shear_range=0.2, \n",
    "    zoom_range=0.2, \n",
    "    horizontal_flip=True, \n",
    "    fill_mode='nearest',\n",
    "    validation_split=0.2    \n",
    ")"
   ]
  },
  {
   "cell_type": "code",
   "execution_count": null,
   "id": "609f288f-2c40-4379-97ee-8d6b7aa4cfe8",
   "metadata": {},
   "outputs": [],
   "source": [
    "train_generator = train_datagen.flow_from_directory(\n",
    "    base_dir, \n",
    "    target_size=(150, 150), \n",
    "    batch_size=32, \n",
    "    class_mode='categorical',\n",
    "    subset='training')\n",
    "\n",
    "validation_generator = train_datagen.flow_from_directory(\n",
    "    base_dir, \n",
    "    target_size=(150, 150), \n",
    "    batch_size=32, \n",
    "    class_mode='categorical',\n",
    "    subset='validation')"
   ]
  },
  {
   "cell_type": "code",
   "execution_count": null,
   "id": "c3d99143-a1db-4d91-b010-22a65700249f",
   "metadata": {},
   "outputs": [],
   "source": [
    "model = models.Sequential([\n",
    "    layers.Input(shape=(150, 150, 3)),\n",
    "    layers.Conv2D(32, (3, 3), activation='relu'),\n",
    "    layers.MaxPooling2D((2, 2)),\n",
    "\n",
    "    layers.Conv2D(64, (3, 3), activation='relu'),\n",
    "    layers.MaxPooling2D((2, 2)),\n",
    "\n",
    "    layers.Conv2D(128, (3, 3), activation='relu'),\n",
    "    layers.MaxPooling2D((2, 2)),\n",
    "\n",
    "    layers.Conv2D(256, (3, 3), activation='relu'),\n",
    "    layers.MaxPooling2D((2, 2)),\n",
    "\n",
    "    layers.Flatten(),\n",
    "    layers.Dense(512, activation='relu'),\n",
    "    layers.Dropout(0.5),  # Regularization to avoid overfitting\n",
    "    layers.Dense(38, activation='softmax')  # 38 classes in the dataset\n",
    "])"
   ]
  },
  {
   "cell_type": "code",
   "execution_count": null,
   "id": "6c18df9a-2b10-4ba1-a0ce-c38778736af5",
   "metadata": {},
   "outputs": [],
   "source": [
    "model.compile(\n",
    "optimizer='adam', \n",
    "loss='categorical_crossentropy', \n",
    "metrics=['accuracy'])"
   ]
  },
  {
   "cell_type": "code",
   "execution_count": null,
   "id": "0034237b-90d9-45ea-ba13-fac630f97ef7",
   "metadata": {},
   "outputs": [],
   "source": [
    "model.summary()"
   ]
  },
  {
   "cell_type": "code",
   "execution_count": null,
   "id": "1448fdf0-fb35-461f-9e26-bba84c17d620",
   "metadata": {},
   "outputs": [],
   "source": [
    "history = model.fit(\n",
    "    train_generator,\n",
    "    epochs=5,\n",
    "    validation_data=validation_generator\n",
    ")"
   ]
  },
  {
   "cell_type": "code",
   "execution_count": null,
   "id": "35d2d21d-af70-4452-b6a9-a433bc5c47ca",
   "metadata": {},
   "outputs": [],
   "source": [
    "val_loss, val_acc = model.evaluate(validation_generator)\n",
    "print(f\"Validation Accuracy: {val_acc}\")"
   ]
  },
  {
   "cell_type": "code",
   "execution_count": null,
   "id": "2eb14550-ad29-49fb-a018-557f8511457b",
   "metadata": {},
   "outputs": [],
   "source": [
    "Y_pred = model.predict(validation_generator)\n",
    "y_pred = np.argmax(Y_pred, axis=1)\n",
    "\n",
    "print('Confusion Matrix')\n",
    "print(confusion_matrix(validation_generator.classes, y_pred))"
   ]
  },
  {
   "cell_type": "code",
   "execution_count": null,
   "id": "a6dc0b1c-053e-4374-9ad8-5863de71ddd5",
   "metadata": {},
   "outputs": [],
   "source": [
    "target_names = list(validation_generator.class_indices.keys())\n",
    "print(classification_report(validation_generator.classes, y_pred, target_names=target_names))"
   ]
  },
  {
   "cell_type": "code",
   "execution_count": null,
   "id": "25baf10d-e5a7-4d0e-8389-0051c4d77157",
   "metadata": {},
   "outputs": [],
   "source": [
    "import matplotlib.pyplot as plt"
   ]
  },
  {
   "cell_type": "code",
   "execution_count": null,
   "id": "96a863b0-5f95-4254-b31e-bbd7646faf15",
   "metadata": {},
   "outputs": [],
   "source": [
    "# list all data in history\n",
    "print(history.history.keys())\n",
    "# summarize history for accuracy\n",
    "plt.plot(history.history['accuracy'])\n",
    "plt.plot(history.history['val_accuracy'])\n",
    "plt.title('model accuracy')\n",
    "plt.ylabel('accuracy')\n",
    "plt.xlabel('epoch')\n",
    "plt.legend(['train', 'test'], loc='upper left')\n",
    "plt.show()\n",
    "# summarize history for loss\n",
    "plt.plot(history.history['loss'])\n",
    "plt.plot(history.history['val_loss'])\n",
    "plt.title('model loss')\n",
    "plt.ylabel('loss')\n",
    "plt.xlabel('epoch')\n",
    "plt.legend(['train', 'test'], loc='upper left')\n",
    "plt.show()"
   ]
  },
  {
   "cell_type": "code",
   "execution_count": null,
   "id": "12bc5b7f-285f-4eeb-bb1b-61843390934e",
   "metadata": {},
   "outputs": [],
   "source": [
    "# Save the trained model\n",
    "model.save('plant_disease_cnn.keras')"
   ]
  },
  {
   "cell_type": "code",
   "execution_count": null,
   "id": "60369b0f-dc42-4259-a26f-4113ce6aa95c",
   "metadata": {},
   "outputs": [],
   "source": [
    "disease_metadata = {\n",
    "    \"Apple___Apple_scab\": {\n",
    "        \"symptoms\": \"Olive-green or brown spots on leaves and fruits. The infected fruit may have corky scabs.\",\n",
    "        \"cure\": \"Apply fungicides such as captan or sulfur. Prune trees to increase air circulation.\"\n",
    "    },\n",
    "    \"Apple___Black_rot\": {\n",
    "        \"symptoms\": \"Concentric brown rings on leaves and fruit. Fruit rots from the blossom end.\",\n",
    "        \"cure\": \"Remove and destroy infected leaves and fruit. Apply copper-based fungicides.\"\n",
    "    },\n",
    "    \"Apple___Cedar_apple_rust\": {\n",
    "        \"symptoms\": \"Yellow-orange spots on leaves that eventually develop black spots in the center. Fruit lesions may also occur.\",\n",
    "        \"cure\": \"Use resistant apple varieties. Apply fungicides like myclobutanil or mancozeb.\"\n",
    "    },\n",
    "    \"Apple___healthy\": {\n",
    "        \"symptoms\": \"No symptoms; the plant is healthy.\",\n",
    "        \"cure\": \"No treatment needed for healthy plants.\"\n",
    "    },\n",
    "    \"Blueberry___healthy\": {\n",
    "        \"symptoms\": \"No symptoms; the plant is healthy.\",\n",
    "        \"cure\": \"No treatment needed for healthy plants.\"\n",
    "    },\n",
    "    \"Cherry_(including_sour)___Powdery_mildew\": {\n",
    "        \"symptoms\": \"White, powdery fungal growth on leaves, stems, and fruit. Leaves may become twisted or stunted.\",\n",
    "        \"cure\": \"Use sulfur-based fungicides. Prune infected branches and improve air circulation.\"\n",
    "    },\n",
    "    \"Corn_(maize)___Cercospora_leaf_spot Gray_leaf_spot\": {\n",
    "        \"symptoms\": \"Long, narrow gray or brown lesions on leaves. Severe infections cause leaf death.\",\n",
    "        \"cure\": \"Rotate crops. Use resistant varieties and apply fungicides like azoxystrobin.\"\n",
    "    },\n",
    "    \"Corn_(maize)___Common_rust_\": {\n",
    "        \"symptoms\": \"Red to brown pustules on both leaf surfaces. Leaves may die prematurely if infection is severe.\",\n",
    "        \"cure\": \"Apply fungicides such as mancozeb or propiconazole. Plant rust-resistant varieties.\"\n",
    "    },\n",
    "    \"Corn_(maize)___Northern_Leaf_Blight\": {\n",
    "        \"symptoms\": \"Long, elliptical gray-green lesions on leaves that eventually turn brown.\",\n",
    "        \"cure\": \"Apply fungicides and ensure good crop rotation to minimize spread.\"\n",
    "    },\n",
    "    \"Grape___Black_rot\": {\n",
    "        \"symptoms\": \"Small, circular black spots on leaves. Berries rot and shrivel into black mummies.\",\n",
    "        \"cure\": \"Remove infected fruit and leaves. Apply fungicides like captan or myclobutanil.\"\n",
    "    },\n",
    "    \"Grape___healthy\": {\n",
    "        \"symptoms\": \"No symptoms; the plant is healthy.\",\n",
    "        \"cure\": \"No treatment needed for healthy plants.\"\n",
    "    },\n",
    "    \"Orange___Haunglongbing_(Citrus_greening)\": {\n",
    "        \"symptoms\": \"Yellowing of leaves, blotchy mottling, and misshapen fruits. Fruits taste bitter and are small.\",\n",
    "        \"cure\": \"Remove and destroy infected trees. Use disease-free nursery stock. Control the Asian citrus psyllid with insecticides.\"\n",
    "    },\n",
    "    \"Peach___Bacterial_spot\": {\n",
    "        \"symptoms\": \"Small, dark spots on leaves, eventually leading to leaf drop. Fruit develops water-soaked spots.\",\n",
    "        \"cure\": \"Apply copper-based sprays. Remove and destroy infected leaves and fruit.\"\n",
    "    },\n",
    "    \"Potato___Early_blight\": {\n",
    "        \"symptoms\": \"Brown spots with concentric rings on leaves, and dark, sunken spots on tubers.\",\n",
    "        \"cure\": \"Use resistant varieties and apply fungicides like chlorothalonil. Practice crop rotation.\"\n",
    "    },\n",
    "    \"Tomato___Spider_mites Two-spotted_spider_mite\": {\n",
    "        \"symptoms\": \"Fine webbing on undersides of leaves, along with yellow or bronze-colored speckling.\",\n",
    "        \"cure\": \"Apply insecticidal soap or horticultural oil. Increase humidity around plants.\"\n",
    "    },\n",
    "    \"Tomato___Tomato_Yellow_Leaf_Curl_Virus\": {\n",
    "        \"symptoms\": \"Yellowing and upward curling of leaves. Plants become stunted with reduced fruit yield.\",\n",
    "        \"cure\": \"Control whiteflies with insecticidal sprays. Use virus-resistant tomato varieties.\"\n",
    "    },\n",
    "    \"Tomato___healthy\": {\n",
    "        \"symptoms\": \"No symptoms; the plant is healthy.\",\n",
    "        \"cure\": \"No treatment needed for healthy plants.\"\n",
    "    }\n",
    "}\n"
   ]
  },
  {
   "cell_type": "code",
   "execution_count": null,
   "id": "a258fcab-b1b7-4233-9af3-37c39c780018",
   "metadata": {},
   "outputs": [],
   "source": [
    "# Save the class indices for future reference\n",
    "import json\n",
    "class_indices = train_generator.class_indices\n",
    "\n",
    "with open('class_indices.json', 'w') as f:\n",
    "    json.dump(class_indices, f)\n",
    "    \n",
    "# Invert class indices to get class names from model output\n",
    "class_labels = {v: k for k, v in class_indices.items()}\n",
    "\n",
    "# Function to get disease details\n",
    "def get_disease_details(predicted_class):\n",
    "    if predicted_class in disease_metadata:\n",
    "        return disease_metadata[predicted_class]\n",
    "    else:\n",
    "        return {\"symptoms\": \"N/A\", \"cure\": \"N/A\"}"
   ]
  },
  {
   "cell_type": "code",
   "execution_count": null,
   "id": "a605682c-7f67-42e9-ae20-30b7494be62d",
   "metadata": {},
   "outputs": [],
   "source": [
    "# Predict the disease from the image\n",
    "Y_pred = model.predict(image_to_predict)  # `image_to_predict` is preprocessed input image\n",
    "predicted_class_idx = np.argmax(Y_pred)\n",
    "predicted_class = class_labels[predicted_class_idx]\n",
    "\n",
    "# Get disease details (symptoms and cure)\n",
    "disease_details = get_disease_details(predicted_class)\n",
    "\n",
    "# Output the prediction, symptoms, and cure\n",
    "print(f\"Predicted Disease: {predicted_class}\")\n",
    "print(f\"Symptoms: {disease_details['symptoms']}\")\n",
    "print(f\"Cure: {disease_details['cure']}\")\n"
   ]
  },
  {
   "cell_type": "code",
   "execution_count": null,
   "id": "d86e106b-f7f0-4c02-9465-16cc7761df4b",
   "metadata": {},
   "outputs": [],
   "source": []
  }
 ],
 "metadata": {
  "kernelspec": {
   "display_name": "Python 3 (ipykernel)",
   "language": "python",
   "name": "python3"
  },
  "language_info": {
   "codemirror_mode": {
    "name": "ipython",
    "version": 3
   },
   "file_extension": ".py",
   "mimetype": "text/x-python",
   "name": "python",
   "nbconvert_exporter": "python",
   "pygments_lexer": "ipython3",
   "version": "3.11.5"
  }
 },
 "nbformat": 4,
 "nbformat_minor": 5
}
