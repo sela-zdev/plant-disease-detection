{
 "cells": [
  {
   "cell_type": "code",
   "execution_count": 115,
   "id": "a7ab02d3-3eb9-472c-aa3f-c4290062d6f5",
   "metadata": {},
   "outputs": [],
   "source": [
    "import numpy as np\n",
    "import tensorflow as tf\n",
    "from tensorflow.keras import layers, models\n",
    "from tensorflow.keras.preprocessing.image import ImageDataGenerator\n",
    "from sklearn.model_selection import train_test_split\n",
    "from sklearn.metrics import classification_report, confusion_matrix\n",
    "from glob import glob\n",
    "import shutil"
   ]
  },
  {
   "cell_type": "code",
   "execution_count": 117,
   "id": "1c406974-a98b-4ce6-a1de-1afe2e03d255",
   "metadata": {},
   "outputs": [],
   "source": [
    "from zipfile import ZipFile"
   ]
  },
  {
   "cell_type": "code",
   "execution_count": 119,
   "id": "7478f79a-edfd-4850-8213-15d8910e82a9",
   "metadata": {},
   "outputs": [
    {
     "name": "stdout",
     "output_type": "stream",
     "text": [
      "Dataset URL: https://www.kaggle.com/datasets/abdallahalidev/plantvillage-dataset\n",
      "License(s): CC-BY-NC-SA-4.0\n",
      "Downloading plantvillage-dataset.zip to /Users/anbschool0002/Desktop/sela/workspace/capstone/404-development/4-Disease-Prediction\n",
      "100%|██████████████████████████████████████| 2.04G/2.04G [03:24<00:00, 8.41MB/s]\n",
      "100%|██████████████████████████████████████| 2.04G/2.04G [03:24<00:00, 10.7MB/s]\n"
     ]
    }
   ],
   "source": [
    "!kaggle datasets download -d abdallahalidev/plantvillage-dataset"
   ]
  },
  {
   "cell_type": "code",
   "execution_count": 121,
   "id": "b141d6aa-d574-4ca4-9c5a-f70f6f65e2ce",
   "metadata": {},
   "outputs": [],
   "source": [
    "with ZipFile(\"plantvillage-dataset.zip\", 'r') as zip_ref:\n",
    "    zip_ref.extractall()"
   ]
  },
  {
   "cell_type": "code",
   "execution_count": 122,
   "id": "dc0df72d-f529-4369-b5b1-4c3651b80814",
   "metadata": {},
   "outputs": [
    {
     "name": "stdout",
     "output_type": "stream",
     "text": [
      "disease-detection-model.ipynb plantvillage-dataset.zip\n",
      "\u001b[34mplantvillage dataset\u001b[m\u001b[m\n"
     ]
    }
   ],
   "source": [
    "!ls"
   ]
  },
  {
   "cell_type": "code",
   "execution_count": 125,
   "id": "527fea2b-94b5-4376-96cc-6bc0bf39dfd1",
   "metadata": {},
   "outputs": [],
   "source": [
    "import os"
   ]
  },
  {
   "cell_type": "code",
   "execution_count": 127,
   "id": "af00f0de-22ba-4511-93d6-878830913868",
   "metadata": {},
   "outputs": [
    {
     "name": "stdout",
     "output_type": "stream",
     "text": [
      "['grayscale', 'segmented', 'color']\n",
      "38\n",
      "['Strawberry___healthy', 'Grape___Black_rot', 'Potato___Early_blight', 'Blueberry___healthy', 'Corn_(maize)___healthy']\n",
      "38\n",
      "['Strawberry___healthy', 'Grape___Black_rot', 'Potato___Early_blight', 'Blueberry___healthy', 'Corn_(maize)___healthy']\n",
      "38\n",
      "['Strawberry___healthy', 'Grape___Black_rot', 'Potato___Early_blight', 'Blueberry___healthy', 'Corn_(maize)___healthy']\n"
     ]
    }
   ],
   "source": [
    "print(os.listdir(\"plantvillage dataset\"))\n",
    "\n",
    "print(len(os.listdir(\"plantvillage dataset/segmented\")))\n",
    "print(os.listdir(\"plantvillage dataset/segmented\")[:5])\n",
    "\n",
    "print(len(os.listdir(\"plantvillage dataset/color\")))\n",
    "print(os.listdir(\"plantvillage dataset/color\")[:5])\n",
    "\n",
    "print(len(os.listdir(\"plantvillage dataset/grayscale\")))\n",
    "print(os.listdir(\"plantvillage dataset/grayscale\")[:5])"
   ]
  },
  {
   "cell_type": "code",
   "execution_count": 147,
   "id": "26232e87-7cb7-4ec2-8d2c-20ece3922035",
   "metadata": {},
   "outputs": [],
   "source": [
    "class_list = os.listdir(\"plantvillage dataset/color\")\n",
    "num_image = [len(os.listdir(f\"plantvillage dataset/color/{cls}\")) for cls in os.listdir(\"plantvillage dataset/color\")]\n",
    "class_image_counts = dict(zip(class_list, num_image))"
   ]
  },
  {
   "cell_type": "code",
   "execution_count": 149,
   "id": "a4485e7b-596f-4cb9-803b-3866c18263a9",
   "metadata": {},
   "outputs": [],
   "source": [
    "dataset_path = \"plantvillage dataset/color\""
   ]
  },
  {
   "cell_type": "code",
   "execution_count": 151,
   "id": "8825cc96-87b4-4644-ab44-35cb1f44eafe",
   "metadata": {},
   "outputs": [],
   "source": [
    "classes = os.listdir(dataset_path)"
   ]
  },
  {
   "cell_type": "code",
   "execution_count": 153,
   "id": "d9a86199-06aa-4c8e-8c65-75dbc63ade0c",
   "metadata": {},
   "outputs": [],
   "source": [
    "os.makedirs('data/train', exist_ok=True)\n",
    "os.makedirs('data/validation', exist_ok=True)\n",
    "os.makedirs('data/test', exist_ok=True)"
   ]
  },
  {
   "cell_type": "code",
   "execution_count": 155,
   "id": "0f313921-09b6-44f2-89da-360a24c43726",
   "metadata": {},
   "outputs": [
    {
     "name": "stdout",
     "output_type": "stream",
     "text": [
      "Class Strawberry___healthy has too few images to split. Skipping.\n",
      "Class Grape___Black_rot has too few images to split. Skipping.\n",
      "Class Potato___Early_blight has too few images to split. Skipping.\n",
      "Class Blueberry___healthy has too few images to split. Skipping.\n",
      "Class Tomato___Target_Spot has too few images to split. Skipping.\n",
      "Class Peach___healthy has too few images to split. Skipping.\n",
      "Class Potato___Late_blight has too few images to split. Skipping.\n",
      "Class Tomato___Tomato_mosaic_virus has too few images to split. Skipping.\n",
      "Class Pepper,_bell___healthy has too few images to split. Skipping.\n",
      "Class Orange___Haunglongbing_(Citrus_greening) has too few images to split. Skipping.\n",
      "Class Tomato___Leaf_Mold has too few images to split. Skipping.\n",
      "Class Grape___Leaf_blight_(Isariopsis_Leaf_Spot) has too few images to split. Skipping.\n",
      "Class Cherry_(including_sour)___Powdery_mildew has too few images to split. Skipping.\n",
      "Class Apple___Cedar_apple_rust has too few images to split. Skipping.\n",
      "Class Tomato___Bacterial_spot has too few images to split. Skipping.\n",
      "Class Grape___healthy has too few images to split. Skipping.\n",
      "Class Tomato___Early_blight has too few images to split. Skipping.\n",
      "Class Corn_(maize)___Common_rust_ has too few images to split. Skipping.\n",
      "Class Grape___Esca_(Black_Measles) has too few images to split. Skipping.\n",
      "Class Raspberry___healthy has too few images to split. Skipping.\n",
      "Class Tomato___healthy has too few images to split. Skipping.\n",
      "Class Cherry_(including_sour)___healthy has too few images to split. Skipping.\n",
      "Class Tomato___Tomato_Yellow_Leaf_Curl_Virus has too few images to split. Skipping.\n",
      "Class Apple___Apple_scab has too few images to split. Skipping.\n",
      "Class Tomato___Spider_mites Two-spotted_spider_mite has too few images to split. Skipping.\n",
      "Class Peach___Bacterial_spot has too few images to split. Skipping.\n",
      "Class Pepper,_bell___Bacterial_spot has too few images to split. Skipping.\n",
      "Class Tomato___Septoria_leaf_spot has too few images to split. Skipping.\n",
      "Class Apple___Black_rot has too few images to split. Skipping.\n",
      "Class Apple___healthy has too few images to split. Skipping.\n",
      "Class Strawberry___Leaf_scorch has too few images to split. Skipping.\n",
      "Class Potato___healthy has too few images to split. Skipping.\n",
      "Class Soybean___healthy has too few images to split. Skipping.\n",
      "Dataset successfully split into train, validation, and test sets.\n"
     ]
    }
   ],
   "source": [
    "# Function to split and move images\n",
    "def split_and_move_images(cls, image_paths, train_ratio=0.8, val_ratio=0.1):\n",
    "    # Calculate split sizes\n",
    "    train_size = int(len(image_paths) * train_ratio)\n",
    "    val_size = int(len(image_paths) * val_ratio)\n",
    "    test_size = len(image_paths) - train_size - val_size\n",
    "\n",
    "    # Split the images into train, validation, and test sets\n",
    "    train_images, temp_images = train_test_split(image_paths, train_size=train_size, random_state=42)\n",
    "    val_images, test_images = train_test_split(temp_images, test_size=test_size, random_state=42)\n",
    "\n",
    "    # Move images to respective directories\n",
    "    for image in train_images:\n",
    "        shutil.move(image, os.path.join('data/train', cls))\n",
    "    for image in val_images:\n",
    "        shutil.move(image, os.path.join('data/validation', cls))\n",
    "    for image in test_images:\n",
    "        shutil.move(image, os.path.join('data/test', cls))\n",
    "\n",
    "# Create directories for train, validation, and test\n",
    "for split in ['train', 'validation', 'test']:\n",
    "    os.makedirs(f'data/{split}', exist_ok=True)\n",
    "\n",
    "# Loop through each class and split the images\n",
    "for cls, count in class_image_counts.items():\n",
    "    cls_path = os.path.join(dataset_path, cls)\n",
    "    images = glob(os.path.join(cls_path, '*.jpg'))  # Adjust extensions if necessary\n",
    "\n",
    "    if len(images) < 2:\n",
    "        print(f\"Class {cls} has too few images to split. Skipping.\")\n",
    "        continue\n",
    "\n",
    "    # Create class-specific directories in train, validation, and test\n",
    "    os.makedirs(os.path.join('data/train', cls), exist_ok=True)\n",
    "    os.makedirs(os.path.join('data/validation', cls), exist_ok=True)\n",
    "    os.makedirs(os.path.join('data/test', cls), exist_ok=True)\n",
    "\n",
    "    # Split and move the images\n",
    "    split_and_move_images(cls, images)\n",
    "\n",
    "print(\"Dataset successfully split into train, validation, and test sets.\")"
   ]
  },
  {
   "cell_type": "code",
   "execution_count": 15,
   "id": "3d061e75-754e-4f78-a9e3-3871a57ac3c7",
   "metadata": {},
   "outputs": [],
   "source": [
    "train_datagen = ImageDataGenerator(\n",
    "    rescale=1./255, \n",
    "    rotation_range=40, \n",
    "    width_shift_range=0.2, \n",
    "    height_shift_range=0.2, \n",
    "    shear_range=0.2, \n",
    "    zoom_range=0.2, \n",
    "    horizontal_flip=True, \n",
    "    fill_mode='nearest',\n",
    "    validation_split=0.2    \n",
    ")"
   ]
  },
  {
   "cell_type": "code",
   "execution_count": 17,
   "id": "609f288f-2c40-4379-97ee-8d6b7aa4cfe8",
   "metadata": {},
   "outputs": [
    {
     "name": "stdout",
     "output_type": "stream",
     "text": [
      "Found 43458 images belonging to 38 classes.\n",
      "Found 10849 images belonging to 38 classes.\n"
     ]
    }
   ],
   "source": [
    "train_generator = train_datagen.flow_from_directory(\n",
    "    base_dir, \n",
    "    target_size=(150, 150), \n",
    "    batch_size=32, \n",
    "    class_mode='categorical',\n",
    "    subset='training')\n",
    "\n",
    "validation_generator = train_datagen.flow_from_directory(\n",
    "    base_dir, \n",
    "    target_size=(150, 150), \n",
    "    batch_size=32, \n",
    "    class_mode='categorical',\n",
    "    subset='validation')"
   ]
  },
  {
   "cell_type": "code",
   "execution_count": 18,
   "id": "c3d99143-a1db-4d91-b010-22a65700249f",
   "metadata": {},
   "outputs": [],
   "source": [
    "model = models.Sequential([\n",
    "    layers.Input(shape=(150, 150, 3)),\n",
    "    layers.Conv2D(32, (3, 3), activation='relu'),\n",
    "    layers.MaxPooling2D((2, 2)),\n",
    "\n",
    "    layers.Conv2D(64, (3, 3), activation='relu'),\n",
    "    layers.MaxPooling2D((2, 2)),\n",
    "\n",
    "    layers.Conv2D(128, (3, 3), activation='relu'),\n",
    "    layers.MaxPooling2D((2, 2)),\n",
    "\n",
    "    layers.Conv2D(256, (3, 3), activation='relu'),\n",
    "    layers.MaxPooling2D((2, 2)),\n",
    "\n",
    "    layers.Flatten(),\n",
    "    layers.Dense(512, activation='relu'),\n",
    "    layers.Dropout(0.5),  # Regularization to avoid overfitting\n",
    "    layers.Dense(38, activation='softmax')  # 38 classes in the dataset\n",
    "])"
   ]
  },
  {
   "cell_type": "code",
   "execution_count": 21,
   "id": "6c18df9a-2b10-4ba1-a0ce-c38778736af5",
   "metadata": {},
   "outputs": [],
   "source": [
    "model.compile(\n",
    "optimizer='adam', \n",
    "loss='categorical_crossentropy', \n",
    "metrics=['accuracy'])"
   ]
  },
  {
   "cell_type": "code",
   "execution_count": 23,
   "id": "0034237b-90d9-45ea-ba13-fac630f97ef7",
   "metadata": {},
   "outputs": [
    {
     "data": {
      "text/html": [
       "<pre style=\"white-space:pre;overflow-x:auto;line-height:normal;font-family:Menlo,'DejaVu Sans Mono',consolas,'Courier New',monospace\"><span style=\"font-weight: bold\">Model: \"sequential\"</span>\n",
       "</pre>\n"
      ],
      "text/plain": [
       "\u001b[1mModel: \"sequential\"\u001b[0m\n"
      ]
     },
     "metadata": {},
     "output_type": "display_data"
    },
    {
     "data": {
      "text/html": [
       "<pre style=\"white-space:pre;overflow-x:auto;line-height:normal;font-family:Menlo,'DejaVu Sans Mono',consolas,'Courier New',monospace\">┏━━━━━━━━━━━━━━━━━━━━━━━━━━━━━━━━━┳━━━━━━━━━━━━━━━━━━━━━━━━┳━━━━━━━━━━━━━━━┓\n",
       "┃<span style=\"font-weight: bold\"> Layer (type)                    </span>┃<span style=\"font-weight: bold\"> Output Shape           </span>┃<span style=\"font-weight: bold\">       Param # </span>┃\n",
       "┡━━━━━━━━━━━━━━━━━━━━━━━━━━━━━━━━━╇━━━━━━━━━━━━━━━━━━━━━━━━╇━━━━━━━━━━━━━━━┩\n",
       "│ conv2d (<span style=\"color: #0087ff; text-decoration-color: #0087ff\">Conv2D</span>)                 │ (<span style=\"color: #00d7ff; text-decoration-color: #00d7ff\">None</span>, <span style=\"color: #00af00; text-decoration-color: #00af00\">148</span>, <span style=\"color: #00af00; text-decoration-color: #00af00\">148</span>, <span style=\"color: #00af00; text-decoration-color: #00af00\">32</span>)   │           <span style=\"color: #00af00; text-decoration-color: #00af00\">896</span> │\n",
       "├─────────────────────────────────┼────────────────────────┼───────────────┤\n",
       "│ max_pooling2d (<span style=\"color: #0087ff; text-decoration-color: #0087ff\">MaxPooling2D</span>)    │ (<span style=\"color: #00d7ff; text-decoration-color: #00d7ff\">None</span>, <span style=\"color: #00af00; text-decoration-color: #00af00\">74</span>, <span style=\"color: #00af00; text-decoration-color: #00af00\">74</span>, <span style=\"color: #00af00; text-decoration-color: #00af00\">32</span>)     │             <span style=\"color: #00af00; text-decoration-color: #00af00\">0</span> │\n",
       "├─────────────────────────────────┼────────────────────────┼───────────────┤\n",
       "│ conv2d_1 (<span style=\"color: #0087ff; text-decoration-color: #0087ff\">Conv2D</span>)               │ (<span style=\"color: #00d7ff; text-decoration-color: #00d7ff\">None</span>, <span style=\"color: #00af00; text-decoration-color: #00af00\">72</span>, <span style=\"color: #00af00; text-decoration-color: #00af00\">72</span>, <span style=\"color: #00af00; text-decoration-color: #00af00\">64</span>)     │        <span style=\"color: #00af00; text-decoration-color: #00af00\">18,496</span> │\n",
       "├─────────────────────────────────┼────────────────────────┼───────────────┤\n",
       "│ max_pooling2d_1 (<span style=\"color: #0087ff; text-decoration-color: #0087ff\">MaxPooling2D</span>)  │ (<span style=\"color: #00d7ff; text-decoration-color: #00d7ff\">None</span>, <span style=\"color: #00af00; text-decoration-color: #00af00\">36</span>, <span style=\"color: #00af00; text-decoration-color: #00af00\">36</span>, <span style=\"color: #00af00; text-decoration-color: #00af00\">64</span>)     │             <span style=\"color: #00af00; text-decoration-color: #00af00\">0</span> │\n",
       "├─────────────────────────────────┼────────────────────────┼───────────────┤\n",
       "│ conv2d_2 (<span style=\"color: #0087ff; text-decoration-color: #0087ff\">Conv2D</span>)               │ (<span style=\"color: #00d7ff; text-decoration-color: #00d7ff\">None</span>, <span style=\"color: #00af00; text-decoration-color: #00af00\">34</span>, <span style=\"color: #00af00; text-decoration-color: #00af00\">34</span>, <span style=\"color: #00af00; text-decoration-color: #00af00\">128</span>)    │        <span style=\"color: #00af00; text-decoration-color: #00af00\">73,856</span> │\n",
       "├─────────────────────────────────┼────────────────────────┼───────────────┤\n",
       "│ max_pooling2d_2 (<span style=\"color: #0087ff; text-decoration-color: #0087ff\">MaxPooling2D</span>)  │ (<span style=\"color: #00d7ff; text-decoration-color: #00d7ff\">None</span>, <span style=\"color: #00af00; text-decoration-color: #00af00\">17</span>, <span style=\"color: #00af00; text-decoration-color: #00af00\">17</span>, <span style=\"color: #00af00; text-decoration-color: #00af00\">128</span>)    │             <span style=\"color: #00af00; text-decoration-color: #00af00\">0</span> │\n",
       "├─────────────────────────────────┼────────────────────────┼───────────────┤\n",
       "│ conv2d_3 (<span style=\"color: #0087ff; text-decoration-color: #0087ff\">Conv2D</span>)               │ (<span style=\"color: #00d7ff; text-decoration-color: #00d7ff\">None</span>, <span style=\"color: #00af00; text-decoration-color: #00af00\">15</span>, <span style=\"color: #00af00; text-decoration-color: #00af00\">15</span>, <span style=\"color: #00af00; text-decoration-color: #00af00\">256</span>)    │       <span style=\"color: #00af00; text-decoration-color: #00af00\">295,168</span> │\n",
       "├─────────────────────────────────┼────────────────────────┼───────────────┤\n",
       "│ max_pooling2d_3 (<span style=\"color: #0087ff; text-decoration-color: #0087ff\">MaxPooling2D</span>)  │ (<span style=\"color: #00d7ff; text-decoration-color: #00d7ff\">None</span>, <span style=\"color: #00af00; text-decoration-color: #00af00\">7</span>, <span style=\"color: #00af00; text-decoration-color: #00af00\">7</span>, <span style=\"color: #00af00; text-decoration-color: #00af00\">256</span>)      │             <span style=\"color: #00af00; text-decoration-color: #00af00\">0</span> │\n",
       "├─────────────────────────────────┼────────────────────────┼───────────────┤\n",
       "│ flatten (<span style=\"color: #0087ff; text-decoration-color: #0087ff\">Flatten</span>)               │ (<span style=\"color: #00d7ff; text-decoration-color: #00d7ff\">None</span>, <span style=\"color: #00af00; text-decoration-color: #00af00\">12544</span>)          │             <span style=\"color: #00af00; text-decoration-color: #00af00\">0</span> │\n",
       "├─────────────────────────────────┼────────────────────────┼───────────────┤\n",
       "│ dense (<span style=\"color: #0087ff; text-decoration-color: #0087ff\">Dense</span>)                   │ (<span style=\"color: #00d7ff; text-decoration-color: #00d7ff\">None</span>, <span style=\"color: #00af00; text-decoration-color: #00af00\">512</span>)            │     <span style=\"color: #00af00; text-decoration-color: #00af00\">6,423,040</span> │\n",
       "├─────────────────────────────────┼────────────────────────┼───────────────┤\n",
       "│ dropout (<span style=\"color: #0087ff; text-decoration-color: #0087ff\">Dropout</span>)               │ (<span style=\"color: #00d7ff; text-decoration-color: #00d7ff\">None</span>, <span style=\"color: #00af00; text-decoration-color: #00af00\">512</span>)            │             <span style=\"color: #00af00; text-decoration-color: #00af00\">0</span> │\n",
       "├─────────────────────────────────┼────────────────────────┼───────────────┤\n",
       "│ dense_1 (<span style=\"color: #0087ff; text-decoration-color: #0087ff\">Dense</span>)                 │ (<span style=\"color: #00d7ff; text-decoration-color: #00d7ff\">None</span>, <span style=\"color: #00af00; text-decoration-color: #00af00\">38</span>)             │        <span style=\"color: #00af00; text-decoration-color: #00af00\">19,494</span> │\n",
       "└─────────────────────────────────┴────────────────────────┴───────────────┘\n",
       "</pre>\n"
      ],
      "text/plain": [
       "┏━━━━━━━━━━━━━━━━━━━━━━━━━━━━━━━━━┳━━━━━━━━━━━━━━━━━━━━━━━━┳━━━━━━━━━━━━━━━┓\n",
       "┃\u001b[1m \u001b[0m\u001b[1mLayer (type)                   \u001b[0m\u001b[1m \u001b[0m┃\u001b[1m \u001b[0m\u001b[1mOutput Shape          \u001b[0m\u001b[1m \u001b[0m┃\u001b[1m \u001b[0m\u001b[1m      Param #\u001b[0m\u001b[1m \u001b[0m┃\n",
       "┡━━━━━━━━━━━━━━━━━━━━━━━━━━━━━━━━━╇━━━━━━━━━━━━━━━━━━━━━━━━╇━━━━━━━━━━━━━━━┩\n",
       "│ conv2d (\u001b[38;5;33mConv2D\u001b[0m)                 │ (\u001b[38;5;45mNone\u001b[0m, \u001b[38;5;34m148\u001b[0m, \u001b[38;5;34m148\u001b[0m, \u001b[38;5;34m32\u001b[0m)   │           \u001b[38;5;34m896\u001b[0m │\n",
       "├─────────────────────────────────┼────────────────────────┼───────────────┤\n",
       "│ max_pooling2d (\u001b[38;5;33mMaxPooling2D\u001b[0m)    │ (\u001b[38;5;45mNone\u001b[0m, \u001b[38;5;34m74\u001b[0m, \u001b[38;5;34m74\u001b[0m, \u001b[38;5;34m32\u001b[0m)     │             \u001b[38;5;34m0\u001b[0m │\n",
       "├─────────────────────────────────┼────────────────────────┼───────────────┤\n",
       "│ conv2d_1 (\u001b[38;5;33mConv2D\u001b[0m)               │ (\u001b[38;5;45mNone\u001b[0m, \u001b[38;5;34m72\u001b[0m, \u001b[38;5;34m72\u001b[0m, \u001b[38;5;34m64\u001b[0m)     │        \u001b[38;5;34m18,496\u001b[0m │\n",
       "├─────────────────────────────────┼────────────────────────┼───────────────┤\n",
       "│ max_pooling2d_1 (\u001b[38;5;33mMaxPooling2D\u001b[0m)  │ (\u001b[38;5;45mNone\u001b[0m, \u001b[38;5;34m36\u001b[0m, \u001b[38;5;34m36\u001b[0m, \u001b[38;5;34m64\u001b[0m)     │             \u001b[38;5;34m0\u001b[0m │\n",
       "├─────────────────────────────────┼────────────────────────┼───────────────┤\n",
       "│ conv2d_2 (\u001b[38;5;33mConv2D\u001b[0m)               │ (\u001b[38;5;45mNone\u001b[0m, \u001b[38;5;34m34\u001b[0m, \u001b[38;5;34m34\u001b[0m, \u001b[38;5;34m128\u001b[0m)    │        \u001b[38;5;34m73,856\u001b[0m │\n",
       "├─────────────────────────────────┼────────────────────────┼───────────────┤\n",
       "│ max_pooling2d_2 (\u001b[38;5;33mMaxPooling2D\u001b[0m)  │ (\u001b[38;5;45mNone\u001b[0m, \u001b[38;5;34m17\u001b[0m, \u001b[38;5;34m17\u001b[0m, \u001b[38;5;34m128\u001b[0m)    │             \u001b[38;5;34m0\u001b[0m │\n",
       "├─────────────────────────────────┼────────────────────────┼───────────────┤\n",
       "│ conv2d_3 (\u001b[38;5;33mConv2D\u001b[0m)               │ (\u001b[38;5;45mNone\u001b[0m, \u001b[38;5;34m15\u001b[0m, \u001b[38;5;34m15\u001b[0m, \u001b[38;5;34m256\u001b[0m)    │       \u001b[38;5;34m295,168\u001b[0m │\n",
       "├─────────────────────────────────┼────────────────────────┼───────────────┤\n",
       "│ max_pooling2d_3 (\u001b[38;5;33mMaxPooling2D\u001b[0m)  │ (\u001b[38;5;45mNone\u001b[0m, \u001b[38;5;34m7\u001b[0m, \u001b[38;5;34m7\u001b[0m, \u001b[38;5;34m256\u001b[0m)      │             \u001b[38;5;34m0\u001b[0m │\n",
       "├─────────────────────────────────┼────────────────────────┼───────────────┤\n",
       "│ flatten (\u001b[38;5;33mFlatten\u001b[0m)               │ (\u001b[38;5;45mNone\u001b[0m, \u001b[38;5;34m12544\u001b[0m)          │             \u001b[38;5;34m0\u001b[0m │\n",
       "├─────────────────────────────────┼────────────────────────┼───────────────┤\n",
       "│ dense (\u001b[38;5;33mDense\u001b[0m)                   │ (\u001b[38;5;45mNone\u001b[0m, \u001b[38;5;34m512\u001b[0m)            │     \u001b[38;5;34m6,423,040\u001b[0m │\n",
       "├─────────────────────────────────┼────────────────────────┼───────────────┤\n",
       "│ dropout (\u001b[38;5;33mDropout\u001b[0m)               │ (\u001b[38;5;45mNone\u001b[0m, \u001b[38;5;34m512\u001b[0m)            │             \u001b[38;5;34m0\u001b[0m │\n",
       "├─────────────────────────────────┼────────────────────────┼───────────────┤\n",
       "│ dense_1 (\u001b[38;5;33mDense\u001b[0m)                 │ (\u001b[38;5;45mNone\u001b[0m, \u001b[38;5;34m38\u001b[0m)             │        \u001b[38;5;34m19,494\u001b[0m │\n",
       "└─────────────────────────────────┴────────────────────────┴───────────────┘\n"
      ]
     },
     "metadata": {},
     "output_type": "display_data"
    },
    {
     "data": {
      "text/html": [
       "<pre style=\"white-space:pre;overflow-x:auto;line-height:normal;font-family:Menlo,'DejaVu Sans Mono',consolas,'Courier New',monospace\"><span style=\"font-weight: bold\"> Total params: </span><span style=\"color: #00af00; text-decoration-color: #00af00\">6,830,950</span> (26.06 MB)\n",
       "</pre>\n"
      ],
      "text/plain": [
       "\u001b[1m Total params: \u001b[0m\u001b[38;5;34m6,830,950\u001b[0m (26.06 MB)\n"
      ]
     },
     "metadata": {},
     "output_type": "display_data"
    },
    {
     "data": {
      "text/html": [
       "<pre style=\"white-space:pre;overflow-x:auto;line-height:normal;font-family:Menlo,'DejaVu Sans Mono',consolas,'Courier New',monospace\"><span style=\"font-weight: bold\"> Trainable params: </span><span style=\"color: #00af00; text-decoration-color: #00af00\">6,830,950</span> (26.06 MB)\n",
       "</pre>\n"
      ],
      "text/plain": [
       "\u001b[1m Trainable params: \u001b[0m\u001b[38;5;34m6,830,950\u001b[0m (26.06 MB)\n"
      ]
     },
     "metadata": {},
     "output_type": "display_data"
    },
    {
     "data": {
      "text/html": [
       "<pre style=\"white-space:pre;overflow-x:auto;line-height:normal;font-family:Menlo,'DejaVu Sans Mono',consolas,'Courier New',monospace\"><span style=\"font-weight: bold\"> Non-trainable params: </span><span style=\"color: #00af00; text-decoration-color: #00af00\">0</span> (0.00 B)\n",
       "</pre>\n"
      ],
      "text/plain": [
       "\u001b[1m Non-trainable params: \u001b[0m\u001b[38;5;34m0\u001b[0m (0.00 B)\n"
      ]
     },
     "metadata": {},
     "output_type": "display_data"
    }
   ],
   "source": [
    "model.summary()"
   ]
  },
  {
   "cell_type": "code",
   "execution_count": null,
   "id": "1448fdf0-fb35-461f-9e26-bba84c17d620",
   "metadata": {},
   "outputs": [
    {
     "name": "stdout",
     "output_type": "stream",
     "text": [
      "Epoch 1/5\n"
     ]
    },
    {
     "name": "stderr",
     "output_type": "stream",
     "text": [
      "/Users/anbschool0002/anaconda3/lib/python3.11/site-packages/keras/src/trainers/data_adapters/py_dataset_adapter.py:122: UserWarning: Your `PyDataset` class should call `super().__init__(**kwargs)` in its constructor. `**kwargs` can include `workers`, `use_multiprocessing`, `max_queue_size`. Do not pass these arguments to `fit()`, as they will be ignored.\n",
      "  self._warn_if_super_not_called()\n"
     ]
    },
    {
     "name": "stdout",
     "output_type": "stream",
     "text": [
      "\u001b[1m1359/1359\u001b[0m \u001b[32m━━━━━━━━━━━━━━━━━━━━\u001b[0m\u001b[37m\u001b[0m \u001b[1m406s\u001b[0m 298ms/step - accuracy: 0.2968 - loss: 2.6511 - val_accuracy: 0.6569 - val_loss: 1.1654\n",
      "Epoch 2/5\n",
      "\u001b[1m1359/1359\u001b[0m \u001b[32m━━━━━━━━━━━━━━━━━━━━\u001b[0m\u001b[37m\u001b[0m \u001b[1m395s\u001b[0m 290ms/step - accuracy: 0.6521 - loss: 1.1706 - val_accuracy: 0.7645 - val_loss: 0.7353\n",
      "Epoch 3/5\n",
      "\u001b[1m 518/1359\u001b[0m \u001b[32m━━━━━━━\u001b[0m\u001b[37m━━━━━━━━━━━━━\u001b[0m \u001b[1m3:51\u001b[0m 276ms/step - accuracy: 0.7446 - loss: 0.8314"
     ]
    }
   ],
   "source": [
    "history = model.fit(\n",
    "    train_generator,\n",
    "    epochs=5,\n",
    "    validation_data=validation_generator\n",
    ")"
   ]
  },
  {
   "cell_type": "code",
   "execution_count": null,
   "id": "35d2d21d-af70-4452-b6a9-a433bc5c47ca",
   "metadata": {},
   "outputs": [],
   "source": [
    "val_loss, val_acc = model.evaluate(validation_generator)\n",
    "print(f\"Validation Accuracy: {val_acc}\")"
   ]
  },
  {
   "cell_type": "code",
   "execution_count": null,
   "id": "2eb14550-ad29-49fb-a018-557f8511457b",
   "metadata": {},
   "outputs": [],
   "source": [
    "Y_pred = model.predict(validation_generator)\n",
    "y_pred = np.argmax(Y_pred, axis=1)\n",
    "\n",
    "print('Confusion Matrix')\n",
    "print(confusion_matrix(validation_generator.classes, y_pred))"
   ]
  },
  {
   "cell_type": "code",
   "execution_count": null,
   "id": "a6dc0b1c-053e-4374-9ad8-5863de71ddd5",
   "metadata": {},
   "outputs": [],
   "source": [
    "target_names = list(validation_generator.class_indices.keys())\n",
    "print(classification_report(validation_generator.classes, y_pred, target_names=target_names))"
   ]
  },
  {
   "cell_type": "code",
   "execution_count": null,
   "id": "25baf10d-e5a7-4d0e-8389-0051c4d77157",
   "metadata": {},
   "outputs": [],
   "source": [
    "import matplotlib.pyplot as plt"
   ]
  },
  {
   "cell_type": "code",
   "execution_count": null,
   "id": "96a863b0-5f95-4254-b31e-bbd7646faf15",
   "metadata": {},
   "outputs": [],
   "source": [
    "# list all data in history\n",
    "print(history.history.keys())\n",
    "# summarize history for accuracy\n",
    "plt.plot(history.history['accuracy'])\n",
    "plt.plot(history.history['val_accuracy'])\n",
    "plt.title('model accuracy')\n",
    "plt.ylabel('accuracy')\n",
    "plt.xlabel('epoch')\n",
    "plt.legend(['train', 'test'], loc='upper left')\n",
    "plt.show()\n",
    "# summarize history for loss\n",
    "plt.plot(history.history['loss'])\n",
    "plt.plot(history.history['val_loss'])\n",
    "plt.title('model loss')\n",
    "plt.ylabel('loss')\n",
    "plt.xlabel('epoch')\n",
    "plt.legend(['train', 'test'], loc='upper left')\n",
    "plt.show()"
   ]
  },
  {
   "cell_type": "code",
   "execution_count": null,
   "id": "12bc5b7f-285f-4eeb-bb1b-61843390934e",
   "metadata": {},
   "outputs": [],
   "source": [
    "# Save the trained model\n",
    "model.save('plant_disease_cnn.keras')"
   ]
  },
  {
   "cell_type": "code",
   "execution_count": null,
   "id": "60369b0f-dc42-4259-a26f-4113ce6aa95c",
   "metadata": {},
   "outputs": [],
   "source": [
    "disease_metadata = {\n",
    "    \"Apple___Apple_scab\": {\n",
    "        \"symptoms\": \"Olive-green or brown spots on leaves and fruits. The infected fruit may have corky scabs.\",\n",
    "        \"cure\": \"Apply fungicides such as captan or sulfur. Prune trees to increase air circulation.\"\n",
    "    },\n",
    "    \"Apple___Black_rot\": {\n",
    "        \"symptoms\": \"Concentric brown rings on leaves and fruit. Fruit rots from the blossom end.\",\n",
    "        \"cure\": \"Remove and destroy infected leaves and fruit. Apply copper-based fungicides.\"\n",
    "    },\n",
    "    \"Apple___Cedar_apple_rust\": {\n",
    "        \"symptoms\": \"Yellow-orange spots on leaves that eventually develop black spots in the center. Fruit lesions may also occur.\",\n",
    "        \"cure\": \"Use resistant apple varieties. Apply fungicides like myclobutanil or mancozeb.\"\n",
    "    },\n",
    "    \"Apple___healthy\": {\n",
    "        \"symptoms\": \"No symptoms; the plant is healthy.\",\n",
    "        \"cure\": \"No treatment needed for healthy plants.\"\n",
    "    },\n",
    "    \"Blueberry___healthy\": {\n",
    "        \"symptoms\": \"No symptoms; the plant is healthy.\",\n",
    "        \"cure\": \"No treatment needed for healthy plants.\"\n",
    "    },\n",
    "    \"Cherry_(including_sour)___Powdery_mildew\": {\n",
    "        \"symptoms\": \"White, powdery fungal growth on leaves, stems, and fruit. Leaves may become twisted or stunted.\",\n",
    "        \"cure\": \"Use sulfur-based fungicides. Prune infected branches and improve air circulation.\"\n",
    "    },\n",
    "    \"Corn_(maize)___Cercospora_leaf_spot Gray_leaf_spot\": {\n",
    "        \"symptoms\": \"Long, narrow gray or brown lesions on leaves. Severe infections cause leaf death.\",\n",
    "        \"cure\": \"Rotate crops. Use resistant varieties and apply fungicides like azoxystrobin.\"\n",
    "    },\n",
    "    \"Corn_(maize)___Common_rust_\": {\n",
    "        \"symptoms\": \"Red to brown pustules on both leaf surfaces. Leaves may die prematurely if infection is severe.\",\n",
    "        \"cure\": \"Apply fungicides such as mancozeb or propiconazole. Plant rust-resistant varieties.\"\n",
    "    },\n",
    "    \"Corn_(maize)___Northern_Leaf_Blight\": {\n",
    "        \"symptoms\": \"Long, elliptical gray-green lesions on leaves that eventually turn brown.\",\n",
    "        \"cure\": \"Apply fungicides and ensure good crop rotation to minimize spread.\"\n",
    "    },\n",
    "    \"Grape___Black_rot\": {\n",
    "        \"symptoms\": \"Small, circular black spots on leaves. Berries rot and shrivel into black mummies.\",\n",
    "        \"cure\": \"Remove infected fruit and leaves. Apply fungicides like captan or myclobutanil.\"\n",
    "    },\n",
    "    \"Grape___healthy\": {\n",
    "        \"symptoms\": \"No symptoms; the plant is healthy.\",\n",
    "        \"cure\": \"No treatment needed for healthy plants.\"\n",
    "    },\n",
    "    \"Orange___Haunglongbing_(Citrus_greening)\": {\n",
    "        \"symptoms\": \"Yellowing of leaves, blotchy mottling, and misshapen fruits. Fruits taste bitter and are small.\",\n",
    "        \"cure\": \"Remove and destroy infected trees. Use disease-free nursery stock. Control the Asian citrus psyllid with insecticides.\"\n",
    "    },\n",
    "    \"Peach___Bacterial_spot\": {\n",
    "        \"symptoms\": \"Small, dark spots on leaves, eventually leading to leaf drop. Fruit develops water-soaked spots.\",\n",
    "        \"cure\": \"Apply copper-based sprays. Remove and destroy infected leaves and fruit.\"\n",
    "    },\n",
    "    \"Potato___Early_blight\": {\n",
    "        \"symptoms\": \"Brown spots with concentric rings on leaves, and dark, sunken spots on tubers.\",\n",
    "        \"cure\": \"Use resistant varieties and apply fungicides like chlorothalonil. Practice crop rotation.\"\n",
    "    },\n",
    "    \"Tomato___Spider_mites Two-spotted_spider_mite\": {\n",
    "        \"symptoms\": \"Fine webbing on undersides of leaves, along with yellow or bronze-colored speckling.\",\n",
    "        \"cure\": \"Apply insecticidal soap or horticultural oil. Increase humidity around plants.\"\n",
    "    },\n",
    "    \"Tomato___Tomato_Yellow_Leaf_Curl_Virus\": {\n",
    "        \"symptoms\": \"Yellowing and upward curling of leaves. Plants become stunted with reduced fruit yield.\",\n",
    "        \"cure\": \"Control whiteflies with insecticidal sprays. Use virus-resistant tomato varieties.\"\n",
    "    },\n",
    "    \"Tomato___healthy\": {\n",
    "        \"symptoms\": \"No symptoms; the plant is healthy.\",\n",
    "        \"cure\": \"No treatment needed for healthy plants.\"\n",
    "    }\n",
    "}\n"
   ]
  },
  {
   "cell_type": "code",
   "execution_count": null,
   "id": "a258fcab-b1b7-4233-9af3-37c39c780018",
   "metadata": {},
   "outputs": [],
   "source": [
    "# Save the class indices for future reference\n",
    "import json\n",
    "class_indices = train_generator.class_indices\n",
    "\n",
    "with open('class_indices.json', 'w') as f:\n",
    "    json.dump(class_indices, f)\n",
    "    \n",
    "# Invert class indices to get class names from model output\n",
    "class_labels = {v: k for k, v in class_indices.items()}\n",
    "\n",
    "# Function to get disease details\n",
    "def get_disease_details(predicted_class):\n",
    "    if predicted_class in disease_metadata:\n",
    "        return disease_metadata[predicted_class]\n",
    "    else:\n",
    "        return {\"symptoms\": \"N/A\", \"cure\": \"N/A\"}"
   ]
  },
  {
   "cell_type": "code",
   "execution_count": null,
   "id": "a605682c-7f67-42e9-ae20-30b7494be62d",
   "metadata": {},
   "outputs": [],
   "source": [
    "# Predict the disease from the image\n",
    "Y_pred = model.predict(image_to_predict)  # `image_to_predict` is preprocessed input image\n",
    "predicted_class_idx = np.argmax(Y_pred)\n",
    "predicted_class = class_labels[predicted_class_idx]\n",
    "\n",
    "# Get disease details (symptoms and cure)\n",
    "disease_details = get_disease_details(predicted_class)\n",
    "\n",
    "# Output the prediction, symptoms, and cure\n",
    "print(f\"Predicted Disease: {predicted_class}\")\n",
    "print(f\"Symptoms: {disease_details['symptoms']}\")\n",
    "print(f\"Cure: {disease_details['cure']}\")\n"
   ]
  },
  {
   "cell_type": "code",
   "execution_count": null,
   "id": "7a3c00ff-f66b-45ad-bf73-9c4bdc3784ff",
   "metadata": {},
   "outputs": [],
   "source": []
  }
 ],
 "metadata": {
  "kernelspec": {
   "display_name": "Python 3 (ipykernel)",
   "language": "python",
   "name": "python3"
  },
  "language_info": {
   "codemirror_mode": {
    "name": "ipython",
    "version": 3
   },
   "file_extension": ".py",
   "mimetype": "text/x-python",
   "name": "python",
   "nbconvert_exporter": "python",
   "pygments_lexer": "ipython3",
   "version": "3.11.5"
  }
 },
 "nbformat": 4,
 "nbformat_minor": 5
}
